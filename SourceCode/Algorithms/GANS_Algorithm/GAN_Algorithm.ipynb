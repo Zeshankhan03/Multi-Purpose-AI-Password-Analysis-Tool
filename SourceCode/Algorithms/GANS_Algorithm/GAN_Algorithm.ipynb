{
 "cells": [
  {
   "cell_type": "code",
   "execution_count": 1,
   "metadata": {},
   "outputs": [
    {
     "name": "stdout",
     "output_type": "stream",
     "text": [
      "Using device: cuda\n"
     ]
    }
   ],
   "source": [
    "import torch\n",
    "import torch.nn as nn\n",
    "import torch.optim as optim\n",
    "from torch.utils.data import Dataset, DataLoader\n",
    "\n",
    "# Device configuration\n",
    "device = torch.device(\"cuda\" if torch.cuda.is_available() else \"cpu\")\n",
    "print(f\"Using device: {device}\")\n",
    "\n",
    "# Define the Generator class\n",
    "class Discriminator(nn.Module):\n",
    "    def __init__(self, vocab_size, hidden_dim):\n",
    "        super(Discriminator, self).__init__()\n",
    "        self.model = nn.Sequential(\n",
    "            nn.Linear(vocab_size * max_length, hidden_dim),\n",
    "            nn.LeakyReLU(0.2),\n",
    "            nn.Linear(hidden_dim, hidden_dim),\n",
    "            nn.LeakyReLU(0.2),\n",
    "            nn.Linear(hidden_dim, 1),\n",
    "            nn.Sigmoid()\n",
    "        )\n",
    "    \n",
    "    def forward(self, x):\n",
    "        # Flatten the input tensor\n",
    "        x = x.view(x.size(0), -1)\n",
    "        return self.model(x)\n",
    "\n",
    "\n",
    "# Define the Discriminator class\n",
    "class Discriminator(nn.Module):\n",
    "    def __init__(self, vocab_size, hidden_dim):\n",
    "        super(Discriminator, self).__init__()\n",
    "        self.model = nn.Sequential(\n",
    "            nn.Linear(vocab_size, hidden_dim),\n",
    "            nn.LeakyReLU(0.2),\n",
    "            nn.Linear(hidden_dim, hidden_dim),\n",
    "            nn.LeakyReLU(0.2),\n",
    "            nn.Linear(hidden_dim, 1),\n",
    "            nn.Sigmoid()  # Output is a probability of being a real password\n",
    "        )\n",
    "    \n",
    "    def forward(self, x):\n",
    "        return self.model(x)"
   ]
  },
  {
   "cell_type": "markdown",
   "metadata": {},
   "source": [
    "2. Password Dataset"
   ]
  },
  {
   "cell_type": "code",
   "execution_count": null,
   "metadata": {},
   "outputs": [],
   "source": [
    "# Custom dataset class\n",
    "class PasswordDataset(Dataset):\n",
    "    def __init__(self, passwords, char2idx, max_length):\n",
    "        self.passwords = passwords\n",
    "        self.char2idx = char2idx\n",
    "        self.max_length = max_length\n",
    "\n",
    "    def __len__(self):\n",
    "        return len(self.passwords)\n",
    "\n",
    "    def __getitem__(self, idx):\n",
    "        password = self.passwords[idx]\n",
    "        padded_password = self.pad_sequence([self.char2idx[char] for char in password])\n",
    "        return torch.tensor(padded_password, dtype=torch.long)\n",
    "    \n",
    "    def pad_sequence(self, seq):\n",
    "        padded = [self.char2idx[' ']] * self.max_length\n",
    "        padded[:len(seq)] = seq\n",
    "        return padded\n",
    "\n",
    "# Function to read passwords from a file\n",
    "def read_passwords(file_path):\n",
    "    with open(file_path, 'r', encoding='utf-8') as file:\n",
    "        passwords = [line.strip() for line in file.readlines()]\n",
    "    return passwords\n",
    "\n",
    "# Load passwords from the file\n",
    "file_path = 'filtered_words_5_rockyou.txt'  # Replace with your file path\n",
    "passwords = read_passwords(file_path)\n",
    "\n",
    "# Create character mappings\n",
    "char2idx = {char: idx for idx, char in enumerate(sorted(set(''.join(passwords) + ' ')))}\n",
    "idx2char = {idx: char for char, idx in char2idx.items()}\n",
    "max_length = max(len(password) for password in passwords)\n",
    "\n",
    "# Create dataset and dataloader\n",
    "dataset = PasswordDataset(passwords, char2idx, max_length)\n",
    "dataloader = DataLoader(dataset, batch_size=64, shuffle=True)"
   ]
  }
 ],
 "metadata": {
  "kernelspec": {
   "display_name": "Python 3",
   "language": "python",
   "name": "python3"
  },
  "language_info": {
   "codemirror_mode": {
    "name": "ipython",
    "version": 3
   },
   "file_extension": ".py",
   "mimetype": "text/x-python",
   "name": "python",
   "nbconvert_exporter": "python",
   "pygments_lexer": "ipython3",
   "version": "3.12.3"
  }
 },
 "nbformat": 4,
 "nbformat_minor": 2
}
